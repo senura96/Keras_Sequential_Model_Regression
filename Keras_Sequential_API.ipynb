{
  "nbformat": 4,
  "nbformat_minor": 0,
  "metadata": {
    "colab": {
      "name": "Keras-Sequential_API.ipynb",
      "provenance": [],
      "collapsed_sections": []
    },
    "kernelspec": {
      "name": "python3",
      "display_name": "Python 3"
    },
    "language_info": {
      "name": "python"
    }
  },
  "cells": [
    {
      "cell_type": "code",
      "metadata": {
        "colab": {
          "base_uri": "https://localhost:8080/"
        },
        "id": "bKYfsKQtjrvr",
        "outputId": "e9517505-0f1a-4482-c51c-816efb9fd34a"
      },
      "source": [
        "import datetime\n",
        "# The OS module in python provides functions for interacting with the operating system.\n",
        "import os\n",
        "# The shutil module in Python provides many functions of high-level operations on files and collections of files.\n",
        "# This module helps in automating process of copying and removal of files and directories.\n",
        "import shutil\n",
        "\n",
        "# Here we'll import data processing libraries like Numpy, Pandas and Tensorflow\n",
        "import numpy as np\n",
        "import pandas as pd\n",
        "import tensorflow as tf\n",
        "\n",
        "# Import pyplot package from matplotlib library\n",
        "from matplotlib import pyplot as plt\n",
        "# Import keras package from tensorflow library\n",
        "from tensorflow import keras\n",
        "\n",
        "# Import Sequential function from tensorflow.keras.models\n",
        "from tensorflow.keras.models import Sequential\n",
        "# Import Dense, DenseFeatures function from tensorflow.keras.layers\n",
        "from tensorflow.keras.layers import Dense, DenseFeatures\n",
        "# Import TensorBoard function from tensorflow.keras.callbacks\n",
        "from tensorflow.keras.callbacks import TensorBoard\n",
        "\n",
        "# Here we'll show the currently installed version of TensorFlow\n",
        "print(tf.__version__)\n",
        "%matplotlib inline"
      ],
      "execution_count": 1,
      "outputs": [
        {
          "output_type": "stream",
          "text": [
            "2.5.0\n"
          ],
          "name": "stdout"
        }
      ]
    },
    {
      "cell_type": "code",
      "metadata": {
        "id": "SK-PgwBAkcoF"
      },
      "source": [
        ""
      ],
      "execution_count": null,
      "outputs": []
    },
    {
      "cell_type": "code",
      "metadata": {
        "id": "bkx_BuuykWQO"
      },
      "source": [
        "df = pd.read_csv('/content/Summary of Weather - Copy.csv')"
      ],
      "execution_count": 18,
      "outputs": []
    },
    {
      "cell_type": "code",
      "metadata": {
        "colab": {
          "base_uri": "https://localhost:8080/"
        },
        "id": "tshzNxaCkeKM",
        "outputId": "02ae76dc-81f0-491f-fe8a-9abc135bfcda"
      },
      "source": [
        "len(df.columns)"
      ],
      "execution_count": 22,
      "outputs": [
        {
          "output_type": "execute_result",
          "data": {
            "text/plain": [
              "23"
            ]
          },
          "metadata": {
            "tags": []
          },
          "execution_count": 22
        }
      ]
    },
    {
      "cell_type": "code",
      "metadata": {
        "colab": {
          "base_uri": "https://localhost:8080/"
        },
        "id": "XceMRxX9keCm",
        "outputId": "836ab2c0-020e-415d-90ea-2c5d52d91159"
      },
      "source": [
        "df.info(\n",
        "    \n",
        ")"
      ],
      "execution_count": 20,
      "outputs": [
        {
          "output_type": "stream",
          "text": [
            "<class 'pandas.core.frame.DataFrame'>\n",
            "RangeIndex: 119040 entries, 0 to 119039\n",
            "Data columns (total 23 columns):\n",
            " #   Column       Non-Null Count   Dtype  \n",
            "---  ------       --------------   -----  \n",
            " 0   WindGustSpd  532 non-null     float64\n",
            " 1   MaxTemp      119040 non-null  float64\n",
            " 2   MinTemp      119040 non-null  float64\n",
            " 3   MeanTemp     119040 non-null  float64\n",
            " 4   YR           119040 non-null  int64  \n",
            " 5   MO           119040 non-null  int64  \n",
            " 6   DA           119040 non-null  int64  \n",
            " 7   DR           533 non-null     float64\n",
            " 8   SPD          532 non-null     float64\n",
            " 9   MAX          118566 non-null  float64\n",
            " 10  MIN          118572 non-null  float64\n",
            " 11  MEA          118542 non-null  float64\n",
            " 12  SND          5563 non-null    float64\n",
            " 13  FT           0 non-null       float64\n",
            " 14  FB           0 non-null       float64\n",
            " 15  FTI          0 non-null       float64\n",
            " 16  ITH          0 non-null       float64\n",
            " 17  PGT          525 non-null     float64\n",
            " 18  SD3          0 non-null       float64\n",
            " 19  RHX          0 non-null       float64\n",
            " 20  RHN          0 non-null       float64\n",
            " 21  RVG          0 non-null       float64\n",
            " 22  WTE          0 non-null       float64\n",
            "dtypes: float64(20), int64(3)\n",
            "memory usage: 20.9 MB\n"
          ],
          "name": "stdout"
        }
      ]
    },
    {
      "cell_type": "code",
      "metadata": {
        "id": "fauK75ERkdtV"
      },
      "source": [
        "object_column_list = ['Date' , 'Precip' ,  'Snowfall' , 'PoorWeather', 'PRCP' ,  'SNF','TSHDSBRSGF']"
      ],
      "execution_count": 9,
      "outputs": []
    },
    {
      "cell_type": "code",
      "metadata": {
        "id": "5mbRf1j6phBx"
      },
      "source": [
        ""
      ],
      "execution_count": 15,
      "outputs": []
    },
    {
      "cell_type": "code",
      "metadata": {
        "id": "1fFdCOppqHtx"
      },
      "source": [
        ""
      ],
      "execution_count": 15,
      "outputs": []
    },
    {
      "cell_type": "code",
      "metadata": {
        "id": "evr3gKYhqN9s"
      },
      "source": [
        ""
      ],
      "execution_count": null,
      "outputs": []
    },
    {
      "cell_type": "code",
      "metadata": {
        "id": "x3O6UIhyj-YI"
      },
      "source": [
        "# Defining the feature names into a list `CSV_COLUMNS`\n",
        "CSV_COLUMNS = [\n",
        "    'WindGustSpd', 'MaxTemp', 'MinTemp',\n",
        "       'MeanTemp', 'YR', 'MO', 'DA', 'DR',\n",
        "       'SPD', 'MAX', 'MIN', 'MEA', 'SND', 'FT', 'FB', 'FTI', 'ITH',\n",
        "       'PGT', 'SD3', 'RHX', 'RHN', 'RVG', 'WTE'\n",
        "]\n",
        "LABEL_COLUMN = 'MaxTemp'\n",
        "# Defining the default values into a list `DEFAULTS`\n",
        "DEFAULTS = [[0.0], [0.0], [0.0], [0.0], [0], [0], [0], [0.0],[0.0],[0.0],[0.0],[0.0],[0.0],[0.0],[0.0],[0.0],[0.0],[0.0],[0.0],[0.0],[0.0],[0.0],[0.0]]\n",
        "\n",
        "\n",
        "\n",
        "def features_and_labels(row_data):\n",
        "# The .pop() method will return item and drop from frame. \n",
        "    label = row_data.pop(LABEL_COLUMN)\n",
        "    features = row_data\n",
        "    \n",
        "   \n",
        "    return features, label\n",
        "\n",
        "\n",
        "def create_dataset(pattern, batch_size=1, mode='eval'):\n",
        "# The tf.data.experimental.make_csv_dataset() method reads CSV files into a dataset\n",
        "    dataset = tf.data.experimental.make_csv_dataset(\n",
        "        pattern, batch_size, CSV_COLUMNS, DEFAULTS)\n",
        "\n",
        "# The map() function executes a specified function for each item in an iterable.\n",
        "# The item is sent to the function as a parameter.\n",
        "    dataset = dataset.map(features_and_labels)\n",
        "\n",
        "    if mode == 'train':\n",
        "# The shuffle() method takes a sequence (list, string, or tuple) and reorganize the order of the items.\n",
        "        dataset = dataset.shuffle(buffer_size=1000).repeat()\n",
        "\n",
        "    # take advantage of multi-threading; 1=AUTOTUNE\n",
        "    dataset = dataset.prefetch(1)\n",
        "    return dataset"
      ],
      "execution_count": 24,
      "outputs": []
    },
    {
      "cell_type": "code",
      "metadata": {
        "id": "hAg7aWdqsMMu"
      },
      "source": [
        "\n",
        "# Defining the feature names into a list `INPUT_COLS`\n",
        "INPUT_COLS = [\n",
        "    'WindGustSpd', 'MinTemp',\n",
        "       'MeanTemp', 'YR', 'MO', 'DA', 'DR',\n",
        "       'SPD', 'MAX', 'MIN', 'MEA', 'SND', 'FT', 'FB', 'FTI', 'ITH',\n",
        "       'PGT', 'SD3', 'RHX', 'RHN', 'RVG', 'WTE'\n",
        "]\n",
        "\n",
        "# Create input layer of feature columns\n",
        "# TODO 1\n",
        "feature_columns = {\n",
        "    colname: tf.feature_column.numeric_column(colname)\n",
        "    for colname in INPUT_COLS\n",
        "    }"
      ],
      "execution_count": 25,
      "outputs": []
    },
    {
      "cell_type": "code",
      "metadata": {
        "id": "Xo4PnCyl2wDU"
      },
      "source": [
        "model = Sequential([\n",
        "    DenseFeatures(feature_columns=feature_columns.values()),\n",
        "    Dense(units=128, activation=\"relu\", name=\"h1\"),\n",
        "    Dense(units=128, activation=\"relu\", name=\"h2\"),\n",
        "    Dense(units=128, activation=\"relu\", name=\"h3\"),\n",
        "    Dense(units=128, activation=\"relu\", name=\"h4\"),\n",
        "    Dense(units=1, activation=\"linear\", name=\"output\")\n",
        "    ])"
      ],
      "execution_count": 26,
      "outputs": []
    },
    {
      "cell_type": "code",
      "metadata": {
        "id": "i2M1hJkG27DH"
      },
      "source": [
        "\n",
        "# TODO 2b\n",
        "# Create a custom evalution metric\n",
        "def rmse(y_true, y_pred):\n",
        "    return tf.sqrt(tf.reduce_mean(tf.square(y_pred - y_true)))\n",
        "\n",
        "\n",
        "# Compile the keras model\n",
        "model.compile(optimizer=\"adam\", loss=\"mse\", metrics=[rmse, \"mse\"])"
      ],
      "execution_count": 27,
      "outputs": []
    },
    {
      "cell_type": "code",
      "metadata": {
        "id": "c5psh-NO29VG"
      },
      "source": [
        "TRAIN_BATCH_SIZE = 1000\n",
        "NUM_TRAIN_EXAMPLES = 10000 * 5  # training dataset will repeat, wrap around\n",
        "NUM_EVALS = 50  # how many times to evaluate\n",
        "NUM_EVAL_EXAMPLES = 10000  # enough to get a reasonable sample\n",
        "\n",
        "trainds = create_dataset(\n",
        "    pattern='../content/Summary of Weather - Copy*',\n",
        "    batch_size=TRAIN_BATCH_SIZE,\n",
        "    mode='train')\n",
        "\n",
        "evalds = create_dataset(\n",
        "    pattern='../content/Summary of Weather - Copy*',\n",
        "    batch_size=1000,\n",
        "    mode='eval').take(NUM_EVAL_EXAMPLES//1000)"
      ],
      "execution_count": 28,
      "outputs": []
    },
    {
      "cell_type": "code",
      "metadata": {
        "colab": {
          "base_uri": "https://localhost:8080/"
        },
        "id": "klA6bv8z3uK8",
        "outputId": "c5e1ca8a-b1e4-41e4-e742-444103ea90ba"
      },
      "source": [
        "trainds"
      ],
      "execution_count": 29,
      "outputs": [
        {
          "output_type": "execute_result",
          "data": {
            "text/plain": [
              "<PrefetchDataset shapes: (OrderedDict([(WindGustSpd, (1000,)), (MinTemp, (1000,)), (MeanTemp, (1000,)), (YR, (1000,)), (MO, (1000,)), (DA, (1000,)), (DR, (1000,)), (SPD, (1000,)), (MAX, (1000,)), (MIN, (1000,)), (MEA, (1000,)), (SND, (1000,)), (FT, (1000,)), (FB, (1000,)), (FTI, (1000,)), (ITH, (1000,)), (PGT, (1000,)), (SD3, (1000,)), (RHX, (1000,)), (RHN, (1000,)), (RVG, (1000,)), (WTE, (1000,))]), (1000,)), types: (OrderedDict([(WindGustSpd, tf.float32), (MinTemp, tf.float32), (MeanTemp, tf.float32), (YR, tf.int32), (MO, tf.int32), (DA, tf.int32), (DR, tf.float32), (SPD, tf.float32), (MAX, tf.float32), (MIN, tf.float32), (MEA, tf.float32), (SND, tf.float32), (FT, tf.float32), (FB, tf.float32), (FTI, tf.float32), (ITH, tf.float32), (PGT, tf.float32), (SD3, tf.float32), (RHX, tf.float32), (RHN, tf.float32), (RVG, tf.float32), (WTE, tf.float32)]), tf.float32)>"
            ]
          },
          "metadata": {
            "tags": []
          },
          "execution_count": 29
        }
      ]
    },
    {
      "cell_type": "code",
      "metadata": {
        "colab": {
          "base_uri": "https://localhost:8080/"
        },
        "id": "2uOLlii43y8_",
        "outputId": "aadcb054-54ff-44e1-8643-9c8aa1a70998"
      },
      "source": [
        "evalds"
      ],
      "execution_count": 30,
      "outputs": [
        {
          "output_type": "execute_result",
          "data": {
            "text/plain": [
              "<TakeDataset shapes: (OrderedDict([(WindGustSpd, (1000,)), (MinTemp, (1000,)), (MeanTemp, (1000,)), (YR, (1000,)), (MO, (1000,)), (DA, (1000,)), (DR, (1000,)), (SPD, (1000,)), (MAX, (1000,)), (MIN, (1000,)), (MEA, (1000,)), (SND, (1000,)), (FT, (1000,)), (FB, (1000,)), (FTI, (1000,)), (ITH, (1000,)), (PGT, (1000,)), (SD3, (1000,)), (RHX, (1000,)), (RHN, (1000,)), (RVG, (1000,)), (WTE, (1000,))]), (1000,)), types: (OrderedDict([(WindGustSpd, tf.float32), (MinTemp, tf.float32), (MeanTemp, tf.float32), (YR, tf.int32), (MO, tf.int32), (DA, tf.int32), (DR, tf.float32), (SPD, tf.float32), (MAX, tf.float32), (MIN, tf.float32), (MEA, tf.float32), (SND, tf.float32), (FT, tf.float32), (FB, tf.float32), (FTI, tf.float32), (ITH, tf.float32), (PGT, tf.float32), (SD3, tf.float32), (RHX, tf.float32), (RHN, tf.float32), (RVG, tf.float32), (WTE, tf.float32)]), tf.float32)>"
            ]
          },
          "metadata": {
            "tags": []
          },
          "execution_count": 30
        }
      ]
    },
    {
      "cell_type": "code",
      "metadata": {
        "colab": {
          "base_uri": "https://localhost:8080/"
        },
        "id": "u8F2j9pd30EU",
        "outputId": "4cb7eb18-e6fa-4ae2-c274-237aad3e43f2"
      },
      "source": [
        "%time \n",
        "# TODO 3\n",
        "steps_per_epoch = NUM_TRAIN_EXAMPLES // (TRAIN_BATCH_SIZE * NUM_EVALS)\n",
        "\n",
        "LOGDIR = \"./taxi_trained\"\n",
        "# Train the sequential model\n",
        "history = model.fit(x=trainds,\n",
        "                    steps_per_epoch=steps_per_epoch,\n",
        "                    epochs=NUM_EVALS,\n",
        "                    validation_data=evalds,\n",
        "                    callbacks=[TensorBoard(LOGDIR)])"
      ],
      "execution_count": 31,
      "outputs": [
        {
          "output_type": "stream",
          "text": [
            "CPU times: user 3 µs, sys: 0 ns, total: 3 µs\n",
            "Wall time: 6.44 µs\n",
            "Epoch 1/50\n",
            "WARNING:tensorflow:Layers in a Sequential model should only have a single input tensor, but we receive a <class 'collections.OrderedDict'> input: OrderedDict([('WindGustSpd', <tf.Tensor 'ExpandDims_20:0' shape=(1000, 1) dtype=float32>), ('MinTemp', <tf.Tensor 'ExpandDims_11:0' shape=(1000, 1) dtype=float32>), ('MeanTemp', <tf.Tensor 'ExpandDims_10:0' shape=(1000, 1) dtype=float32>), ('YR', <tf.Tensor 'ExpandDims_21:0' shape=(1000, 1) dtype=int32>), ('MO', <tf.Tensor 'ExpandDims_9:0' shape=(1000, 1) dtype=int32>), ('DA', <tf.Tensor 'ExpandDims:0' shape=(1000, 1) dtype=int32>), ('DR', <tf.Tensor 'ExpandDims_1:0' shape=(1000, 1) dtype=float32>), ('SPD', <tf.Tensor 'ExpandDims_18:0' shape=(1000, 1) dtype=float32>), ('MAX', <tf.Tensor 'ExpandDims_6:0' shape=(1000, 1) dtype=float32>), ('MIN', <tf.Tensor 'ExpandDims_8:0' shape=(1000, 1) dtype=float32>), ('MEA', <tf.Tensor 'ExpandDims_7:0' shape=(1000, 1) dtype=float32>), ('SND', <tf.Tensor 'ExpandDims_17:0' shape=(1000, 1) dtype=float32>), ('FT', <tf.Tensor 'ExpandDims_3:0' shape=(1000, 1) dtype=float32>), ('FB', <tf.Tensor 'ExpandDims_2:0' shape=(1000, 1) dtype=float32>), ('FTI', <tf.Tensor 'ExpandDims_4:0' shape=(1000, 1) dtype=float32>), ('ITH', <tf.Tensor 'ExpandDims_5:0' shape=(1000, 1) dtype=float32>), ('PGT', <tf.Tensor 'ExpandDims_12:0' shape=(1000, 1) dtype=float32>), ('SD3', <tf.Tensor 'ExpandDims_16:0' shape=(1000, 1) dtype=float32>), ('RHX', <tf.Tensor 'ExpandDims_14:0' shape=(1000, 1) dtype=float32>), ('RHN', <tf.Tensor 'ExpandDims_13:0' shape=(1000, 1) dtype=float32>), ('RVG', <tf.Tensor 'ExpandDims_15:0' shape=(1000, 1) dtype=float32>), ('WTE', <tf.Tensor 'ExpandDims_19:0' shape=(1000, 1) dtype=float32>)])\n",
            "Consider rewriting this model with the Functional API.\n",
            "WARNING:tensorflow:Layers in a Sequential model should only have a single input tensor, but we receive a <class 'collections.OrderedDict'> input: OrderedDict([('WindGustSpd', <tf.Tensor 'ExpandDims_20:0' shape=(1000, 1) dtype=float32>), ('MinTemp', <tf.Tensor 'ExpandDims_11:0' shape=(1000, 1) dtype=float32>), ('MeanTemp', <tf.Tensor 'ExpandDims_10:0' shape=(1000, 1) dtype=float32>), ('YR', <tf.Tensor 'ExpandDims_21:0' shape=(1000, 1) dtype=int32>), ('MO', <tf.Tensor 'ExpandDims_9:0' shape=(1000, 1) dtype=int32>), ('DA', <tf.Tensor 'ExpandDims:0' shape=(1000, 1) dtype=int32>), ('DR', <tf.Tensor 'ExpandDims_1:0' shape=(1000, 1) dtype=float32>), ('SPD', <tf.Tensor 'ExpandDims_18:0' shape=(1000, 1) dtype=float32>), ('MAX', <tf.Tensor 'ExpandDims_6:0' shape=(1000, 1) dtype=float32>), ('MIN', <tf.Tensor 'ExpandDims_8:0' shape=(1000, 1) dtype=float32>), ('MEA', <tf.Tensor 'ExpandDims_7:0' shape=(1000, 1) dtype=float32>), ('SND', <tf.Tensor 'ExpandDims_17:0' shape=(1000, 1) dtype=float32>), ('FT', <tf.Tensor 'ExpandDims_3:0' shape=(1000, 1) dtype=float32>), ('FB', <tf.Tensor 'ExpandDims_2:0' shape=(1000, 1) dtype=float32>), ('FTI', <tf.Tensor 'ExpandDims_4:0' shape=(1000, 1) dtype=float32>), ('ITH', <tf.Tensor 'ExpandDims_5:0' shape=(1000, 1) dtype=float32>), ('PGT', <tf.Tensor 'ExpandDims_12:0' shape=(1000, 1) dtype=float32>), ('SD3', <tf.Tensor 'ExpandDims_16:0' shape=(1000, 1) dtype=float32>), ('RHX', <tf.Tensor 'ExpandDims_14:0' shape=(1000, 1) dtype=float32>), ('RHN', <tf.Tensor 'ExpandDims_13:0' shape=(1000, 1) dtype=float32>), ('RVG', <tf.Tensor 'ExpandDims_15:0' shape=(1000, 1) dtype=float32>), ('WTE', <tf.Tensor 'ExpandDims_19:0' shape=(1000, 1) dtype=float32>)])\n",
            "Consider rewriting this model with the Functional API.\n",
            "1/1 [==============================] - ETA: 0s - loss: 671.5329 - rmse: 25.9140 - mse: 671.5329WARNING:tensorflow:Layers in a Sequential model should only have a single input tensor, but we receive a <class 'collections.OrderedDict'> input: OrderedDict([('WindGustSpd', <tf.Tensor 'ExpandDims_20:0' shape=(1000, 1) dtype=float32>), ('MinTemp', <tf.Tensor 'ExpandDims_11:0' shape=(1000, 1) dtype=float32>), ('MeanTemp', <tf.Tensor 'ExpandDims_10:0' shape=(1000, 1) dtype=float32>), ('YR', <tf.Tensor 'ExpandDims_21:0' shape=(1000, 1) dtype=int32>), ('MO', <tf.Tensor 'ExpandDims_9:0' shape=(1000, 1) dtype=int32>), ('DA', <tf.Tensor 'ExpandDims:0' shape=(1000, 1) dtype=int32>), ('DR', <tf.Tensor 'ExpandDims_1:0' shape=(1000, 1) dtype=float32>), ('SPD', <tf.Tensor 'ExpandDims_18:0' shape=(1000, 1) dtype=float32>), ('MAX', <tf.Tensor 'ExpandDims_6:0' shape=(1000, 1) dtype=float32>), ('MIN', <tf.Tensor 'ExpandDims_8:0' shape=(1000, 1) dtype=float32>), ('MEA', <tf.Tensor 'ExpandDims_7:0' shape=(1000, 1) dtype=float32>), ('SND', <tf.Tensor 'ExpandDims_17:0' shape=(1000, 1) dtype=float32>), ('FT', <tf.Tensor 'ExpandDims_3:0' shape=(1000, 1) dtype=float32>), ('FB', <tf.Tensor 'ExpandDims_2:0' shape=(1000, 1) dtype=float32>), ('FTI', <tf.Tensor 'ExpandDims_4:0' shape=(1000, 1) dtype=float32>), ('ITH', <tf.Tensor 'ExpandDims_5:0' shape=(1000, 1) dtype=float32>), ('PGT', <tf.Tensor 'ExpandDims_12:0' shape=(1000, 1) dtype=float32>), ('SD3', <tf.Tensor 'ExpandDims_16:0' shape=(1000, 1) dtype=float32>), ('RHX', <tf.Tensor 'ExpandDims_14:0' shape=(1000, 1) dtype=float32>), ('RHN', <tf.Tensor 'ExpandDims_13:0' shape=(1000, 1) dtype=float32>), ('RVG', <tf.Tensor 'ExpandDims_15:0' shape=(1000, 1) dtype=float32>), ('WTE', <tf.Tensor 'ExpandDims_19:0' shape=(1000, 1) dtype=float32>)])\n",
            "Consider rewriting this model with the Functional API.\n",
            "1/1 [==============================] - 31s 31s/step - loss: 671.5329 - rmse: 25.9140 - mse: 671.5329 - val_loss: 425.5290 - val_rmse: 20.6279 - val_mse: 425.5290\n",
            "Epoch 2/50\n",
            "1/1 [==============================] - 1s 836ms/step - loss: 374.3519 - rmse: 19.3482 - mse: 374.3519 - val_loss: 209.5390 - val_rmse: 14.4750 - val_mse: 209.5390\n",
            "Epoch 3/50\n",
            "1/1 [==============================] - 1s 633ms/step - loss: 209.4271 - rmse: 14.4716 - mse: 209.4271 - val_loss: 73.5349 - val_rmse: 8.5745 - val_mse: 73.5349\n",
            "Epoch 4/50\n",
            "1/1 [==============================] - 1s 790ms/step - loss: 64.1473 - rmse: 8.0092 - mse: 64.1473 - val_loss: 9.4573 - val_rmse: 3.0656 - val_mse: 9.4573\n",
            "Epoch 5/50\n",
            "1/1 [==============================] - 1s 791ms/step - loss: 11.6205 - rmse: 3.4089 - mse: 11.6205 - val_loss: 21.3908 - val_rmse: 4.6221 - val_mse: 21.3908\n",
            "Epoch 6/50\n",
            "1/1 [==============================] - 1s 787ms/step - loss: 24.1978 - rmse: 4.9191 - mse: 24.1978 - val_loss: 63.5258 - val_rmse: 7.9700 - val_mse: 63.5258\n",
            "Epoch 7/50\n",
            "1/1 [==============================] - 1s 750ms/step - loss: 67.8943 - rmse: 8.2398 - mse: 67.8943 - val_loss: 81.5844 - val_rmse: 9.0322 - val_mse: 81.5844\n",
            "Epoch 8/50\n",
            "1/1 [==============================] - 1s 759ms/step - loss: 89.6007 - rmse: 9.4658 - mse: 89.6007 - val_loss: 59.9124 - val_rmse: 7.7401 - val_mse: 59.9124\n",
            "Epoch 9/50\n",
            "1/1 [==============================] - 1s 724ms/step - loss: 50.8400 - rmse: 7.1302 - mse: 50.8400 - val_loss: 27.1610 - val_rmse: 5.2104 - val_mse: 27.1610\n",
            "Epoch 10/50\n",
            "1/1 [==============================] - 1s 668ms/step - loss: 26.4278 - rmse: 5.1408 - mse: 26.4278 - val_loss: 5.9196 - val_rmse: 2.4296 - val_mse: 5.9196\n",
            "Epoch 11/50\n",
            "1/1 [==============================] - 1s 753ms/step - loss: 6.4472 - rmse: 2.5391 - mse: 6.4472 - val_loss: 6.2955 - val_rmse: 2.5075 - val_mse: 6.2955\n",
            "Epoch 12/50\n",
            "1/1 [==============================] - 1s 753ms/step - loss: 9.9028 - rmse: 3.1469 - mse: 9.9028 - val_loss: 25.0381 - val_rmse: 5.0031 - val_mse: 25.0381\n",
            "Epoch 13/50\n",
            "1/1 [==============================] - 1s 751ms/step - loss: 25.2867 - rmse: 5.0286 - mse: 25.2867 - val_loss: 34.8590 - val_rmse: 5.9040 - val_mse: 34.8590\n",
            "Epoch 14/50\n",
            "1/1 [==============================] - 1s 744ms/step - loss: 35.2153 - rmse: 5.9342 - mse: 35.2153 - val_loss: 30.8018 - val_rmse: 5.5496 - val_mse: 30.8018\n",
            "Epoch 15/50\n",
            "1/1 [==============================] - 1s 763ms/step - loss: 29.4082 - rmse: 5.4229 - mse: 29.4082 - val_loss: 21.5141 - val_rmse: 4.6378 - val_mse: 21.5141\n",
            "Epoch 16/50\n",
            "1/1 [==============================] - 1s 767ms/step - loss: 29.5175 - rmse: 5.4330 - mse: 29.5175 - val_loss: 10.4890 - val_rmse: 3.2380 - val_mse: 10.4890\n",
            "Epoch 17/50\n",
            "1/1 [==============================] - 1s 802ms/step - loss: 11.4836 - rmse: 3.3887 - mse: 11.4836 - val_loss: 3.3354 - val_rmse: 1.8253 - val_mse: 3.3354\n",
            "Epoch 18/50\n",
            "1/1 [==============================] - 1s 800ms/step - loss: 15.9175 - rmse: 3.9897 - mse: 15.9175 - val_loss: 2.2770 - val_rmse: 1.5075 - val_mse: 2.2770\n",
            "Epoch 19/50\n",
            "1/1 [==============================] - 1s 664ms/step - loss: 6.8214 - rmse: 2.6118 - mse: 6.8214 - val_loss: 4.5184 - val_rmse: 2.1248 - val_mse: 4.5184\n",
            "Epoch 20/50\n",
            "1/1 [==============================] - 1s 758ms/step - loss: 4.5417 - rmse: 2.1311 - mse: 4.5417 - val_loss: 7.2173 - val_rmse: 2.6857 - val_mse: 7.2173\n",
            "Epoch 21/50\n",
            "1/1 [==============================] - 1s 815ms/step - loss: 10.9351 - rmse: 3.3068 - mse: 10.9351 - val_loss: 8.3153 - val_rmse: 2.8827 - val_mse: 8.3153\n",
            "Epoch 22/50\n",
            "1/1 [==============================] - 1s 756ms/step - loss: 10.2906 - rmse: 3.2079 - mse: 10.2906 - val_loss: 6.3000 - val_rmse: 2.5096 - val_mse: 6.3000\n",
            "Epoch 23/50\n",
            "1/1 [==============================] - 1s 760ms/step - loss: 5.5930 - rmse: 2.3650 - mse: 5.5930 - val_loss: 3.4594 - val_rmse: 1.8591 - val_mse: 3.4594\n",
            "Epoch 24/50\n",
            "1/1 [==============================] - 1s 758ms/step - loss: 5.9905 - rmse: 2.4476 - mse: 5.9905 - val_loss: 2.1267 - val_rmse: 1.4551 - val_mse: 2.1267\n",
            "Epoch 25/50\n",
            "1/1 [==============================] - 1s 749ms/step - loss: 2.4970 - rmse: 1.5802 - mse: 2.4970 - val_loss: 2.0838 - val_rmse: 1.4423 - val_mse: 2.0838\n",
            "Epoch 26/50\n",
            "1/1 [==============================] - 1s 848ms/step - loss: 10.0086 - rmse: 3.1636 - mse: 10.0086 - val_loss: 4.5174 - val_rmse: 2.1242 - val_mse: 4.5174\n",
            "Epoch 27/50\n",
            "1/1 [==============================] - 1s 781ms/step - loss: 4.9286 - rmse: 2.2201 - mse: 4.9286 - val_loss: 4.9457 - val_rmse: 2.2230 - val_mse: 4.9457\n",
            "Epoch 28/50\n",
            "1/1 [==============================] - 1s 999ms/step - loss: 14.8739 - rmse: 3.8567 - mse: 14.8739 - val_loss: 2.2532 - val_rmse: 1.5004 - val_mse: 2.2532\n",
            "Epoch 29/50\n",
            "1/1 [==============================] - 1s 794ms/step - loss: 1.8329 - rmse: 1.3538 - mse: 1.8329 - val_loss: 1.7594 - val_rmse: 1.3221 - val_mse: 1.7594\n",
            "Epoch 30/50\n",
            "1/1 [==============================] - 1s 811ms/step - loss: 4.8815 - rmse: 2.2094 - mse: 4.8815 - val_loss: 2.5422 - val_rmse: 1.5920 - val_mse: 2.5422\n",
            "Epoch 31/50\n",
            "1/1 [==============================] - 1s 792ms/step - loss: 5.5401 - rmse: 2.3537 - mse: 5.5401 - val_loss: 3.5474 - val_rmse: 1.8825 - val_mse: 3.5474\n",
            "Epoch 32/50\n",
            "1/1 [==============================] - 1s 821ms/step - loss: 3.4306 - rmse: 1.8522 - mse: 3.4306 - val_loss: 3.9117 - val_rmse: 1.9771 - val_mse: 3.9117\n",
            "Epoch 33/50\n",
            "1/1 [==============================] - 1s 764ms/step - loss: 6.0445 - rmse: 2.4586 - mse: 6.0445 - val_loss: 3.2770 - val_rmse: 1.8090 - val_mse: 3.2770\n",
            "Epoch 34/50\n",
            "1/1 [==============================] - 1s 752ms/step - loss: 3.6898 - rmse: 1.9209 - mse: 3.6898 - val_loss: 2.3460 - val_rmse: 1.5306 - val_mse: 2.3460\n",
            "Epoch 35/50\n",
            "1/1 [==============================] - 1s 754ms/step - loss: 5.7078 - rmse: 2.3891 - mse: 5.7078 - val_loss: 1.6445 - val_rmse: 1.2807 - val_mse: 1.6445\n",
            "Epoch 36/50\n",
            "1/1 [==============================] - 1s 686ms/step - loss: 6.3775 - rmse: 2.5254 - mse: 6.3775 - val_loss: 1.5377 - val_rmse: 1.2394 - val_mse: 1.5377\n",
            "Epoch 37/50\n",
            "1/1 [==============================] - 1s 661ms/step - loss: 4.1581 - rmse: 2.0391 - mse: 4.1581 - val_loss: 1.5390 - val_rmse: 1.2395 - val_mse: 1.5390\n",
            "Epoch 38/50\n",
            "1/1 [==============================] - 1s 657ms/step - loss: 4.8297 - rmse: 2.1977 - mse: 4.8297 - val_loss: 1.9530 - val_rmse: 1.3964 - val_mse: 1.9530\n",
            "Epoch 39/50\n",
            "1/1 [==============================] - 1s 754ms/step - loss: 1.6582 - rmse: 1.2877 - mse: 1.6582 - val_loss: 1.9535 - val_rmse: 1.3924 - val_mse: 1.9535\n",
            "Epoch 40/50\n",
            "1/1 [==============================] - 1s 815ms/step - loss: 4.5111 - rmse: 2.1239 - mse: 4.5111 - val_loss: 1.4509 - val_rmse: 1.2032 - val_mse: 1.4509\n",
            "Epoch 41/50\n",
            "1/1 [==============================] - 1s 767ms/step - loss: 1.1906 - rmse: 1.0911 - mse: 1.1906 - val_loss: 1.2814 - val_rmse: 1.1259 - val_mse: 1.2814\n",
            "Epoch 42/50\n",
            "1/1 [==============================] - 1s 748ms/step - loss: 2.9272 - rmse: 1.7109 - mse: 2.9272 - val_loss: 1.4479 - val_rmse: 1.2012 - val_mse: 1.4479\n",
            "Epoch 43/50\n",
            "1/1 [==============================] - 1s 750ms/step - loss: 2.9849 - rmse: 1.7277 - mse: 2.9849 - val_loss: 2.1283 - val_rmse: 1.4577 - val_mse: 2.1283\n",
            "Epoch 44/50\n",
            "1/1 [==============================] - 1s 814ms/step - loss: 2.4940 - rmse: 1.5792 - mse: 2.4940 - val_loss: 1.6048 - val_rmse: 1.2647 - val_mse: 1.6048\n",
            "Epoch 45/50\n",
            "1/1 [==============================] - 1s 767ms/step - loss: 2.8412 - rmse: 1.6856 - mse: 2.8412 - val_loss: 1.2250 - val_rmse: 1.1053 - val_mse: 1.2250\n",
            "Epoch 46/50\n",
            "1/1 [==============================] - 1s 755ms/step - loss: 1.1669 - rmse: 1.0802 - mse: 1.1669 - val_loss: 0.9071 - val_rmse: 0.9480 - val_mse: 0.9071\n",
            "Epoch 47/50\n",
            "1/1 [==============================] - 1s 851ms/step - loss: 2.5269 - rmse: 1.5896 - mse: 2.5269 - val_loss: 1.2394 - val_rmse: 1.1115 - val_mse: 1.2394\n",
            "Epoch 48/50\n",
            "1/1 [==============================] - 1s 836ms/step - loss: 2.7031 - rmse: 1.6441 - mse: 2.7031 - val_loss: 1.3961 - val_rmse: 1.1781 - val_mse: 1.3961\n",
            "Epoch 49/50\n",
            "1/1 [==============================] - 1s 764ms/step - loss: 1.8126 - rmse: 1.3463 - mse: 1.8126 - val_loss: 1.0463 - val_rmse: 1.0210 - val_mse: 1.0463\n",
            "Epoch 50/50\n",
            "1/1 [==============================] - 1s 751ms/step - loss: 2.0876 - rmse: 1.4448 - mse: 2.0876 - val_loss: 0.7558 - val_rmse: 0.8668 - val_mse: 0.7558\n"
          ],
          "name": "stdout"
        }
      ]
    },
    {
      "cell_type": "code",
      "metadata": {
        "colab": {
          "base_uri": "https://localhost:8080/"
        },
        "id": "xoJiBa9e35jC",
        "outputId": "c3bea06c-35f7-430d-b89f-7ffc13144c8c"
      },
      "source": [
        "model.summary()"
      ],
      "execution_count": 32,
      "outputs": [
        {
          "output_type": "stream",
          "text": [
            "Model: \"sequential\"\n",
            "_________________________________________________________________\n",
            "Layer (type)                 Output Shape              Param #   \n",
            "=================================================================\n",
            "dense_features (DenseFeature multiple                  0         \n",
            "_________________________________________________________________\n",
            "h1 (Dense)                   multiple                  2944      \n",
            "_________________________________________________________________\n",
            "h2 (Dense)                   multiple                  16512     \n",
            "_________________________________________________________________\n",
            "h3 (Dense)                   multiple                  16512     \n",
            "_________________________________________________________________\n",
            "h4 (Dense)                   multiple                  16512     \n",
            "_________________________________________________________________\n",
            "output (Dense)               multiple                  129       \n",
            "=================================================================\n",
            "Total params: 52,609\n",
            "Trainable params: 52,609\n",
            "Non-trainable params: 0\n",
            "_________________________________________________________________\n"
          ],
          "name": "stdout"
        }
      ]
    },
    {
      "cell_type": "code",
      "metadata": {
        "colab": {
          "base_uri": "https://localhost:8080/",
          "height": 282
        },
        "id": "w2FDl9fF4OHb",
        "outputId": "0b3f41b1-0dc9-4b55-c57c-2e3c2574ab59"
      },
      "source": [
        "\n",
        "RMSE_COLS = ['rmse', 'val_rmse']\n",
        "\n",
        "# The history object is returned from calls to the fit() function used to train the model.\n",
        "# Metrics are stored in a dictionary in the history member of the object returned.\n",
        "pd.DataFrame(history.history)[RMSE_COLS].plot()"
      ],
      "execution_count": 34,
      "outputs": [
        {
          "output_type": "execute_result",
          "data": {
            "text/plain": [
              "<matplotlib.axes._subplots.AxesSubplot at 0x7fe31febf250>"
            ]
          },
          "metadata": {
            "tags": []
          },
          "execution_count": 34
        },
        {
          "output_type": "display_data",
          "data": {
            "image/png": "[encoded data removed]",
            "text/plain": [
              "<Figure size 432x288 with 1 Axes>"
            ]
          },
          "metadata": {
            "tags": [],
            "needs_background": "light"
          }
        }
      ]
    },
    {
      "cell_type": "code",
      "metadata": {
        "colab": {
          "base_uri": "https://localhost:8080/",
          "height": 285
        },
        "id": "xtJme9I24SG7",
        "outputId": "b8d556e8-9507-424d-f5a8-af821ead5859"
      },
      "source": [
        "LOSS_COLS = ['loss', 'val_loss']\n",
        "\n",
        "# The history object is returned from calls to the fit() function used to train the model.\n",
        "# Metrics are stored in a dictionary in the history member of the object returned.\n",
        "pd.DataFrame(history.history)[LOSS_COLS].plot()"
      ],
      "execution_count": 35,
      "outputs": [
        {
          "output_type": "execute_result",
          "data": {
            "text/plain": [
              "<matplotlib.axes._subplots.AxesSubplot at 0x7fe327968690>"
            ]
          },
          "metadata": {
            "tags": []
          },
          "execution_count": 35
        },
        {
          "output_type": "display_data",
          "data": {
            "image/png": "[encoded data removed]",
            "text/plain": [
              "<Figure size 432x288 with 1 Axes>"
            ]
          },
          "metadata": {
            "tags": [],
            "needs_background": "light"
          }
        }
      ]
    },
    {
      "cell_type": "code",
      "metadata": {
        "id": "QKKGPhD64XHg"
      },
      "source": [
        ""
      ],
      "execution_count": null,
      "outputs": []
    }
  ]
}